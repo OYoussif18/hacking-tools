{
 "cells": [
  {
   "cell_type": "markdown",
   "id": "1eaa1ad3",
   "metadata": {},
   "source": [
    "# Linux hacking commands and tools:"
   ]
  },
  {
   "cell_type": "code",
   "execution_count": 5,
   "id": "c1e0e5ee",
   "metadata": {},
   "outputs": [],
   "source": [
    "import subprocess\n",
    "import platform"
   ]
  },
  {
   "cell_type": "markdown",
   "id": "10961d5d",
   "metadata": {},
   "source": [
    "## Ping tool:"
   ]
  },
  {
   "cell_type": "markdown",
   "id": "f78c759c",
   "metadata": {},
   "source": [
    "### simple python code to test each command:"
   ]
  },
  {
   "cell_type": "code",
   "execution_count": 7,
   "id": "6f48d4b5",
   "metadata": {},
   "outputs": [],
   "source": [
    "def run_ping(target, count=None, size=None, interval=None):\n",
    "    system = platform.system().lower()\n",
    "\n",
    "    if system == 'windows':\n",
    "        cmd = ['ping']\n",
    "        if count is not None:\n",
    "            cmd.extend(['-n', str(count)])\n",
    "        # Windows ping doesn't have -s for size, but has -l for packet size\n",
    "        if size is not None:\n",
    "            cmd.extend(['-l', str(size)])\n",
    "        # Windows ping does not support interval option\n",
    "        cmd.append(target)\n",
    "\n",
    "    else:\n",
    "        # Assume Linux/macOS\n",
    "        cmd = ['ping']\n",
    "        if count is not None:\n",
    "            cmd.extend(['-c', str(count)])\n",
    "        if size is not None:\n",
    "            cmd.extend(['-s', str(size)])\n",
    "        if interval is not None:\n",
    "            cmd.extend(['-i', str(interval)])\n",
    "        cmd.append(target)\n",
    "\n",
    "    print(f\"Running command: {' '.join(cmd)}\\n\")\n",
    "\n",
    "    result = subprocess.run(cmd, stdout=subprocess.PIPE, stderr=subprocess.PIPE, text=True)\n",
    "\n",
    "    if result.returncode == 0:\n",
    "        print(result.stdout)\n",
    "    else:\n",
    "        print(f\"Error:\\n{result.stderr}\")"
   ]
  },
  {
   "cell_type": "markdown",
   "id": "1abbdb80",
   "metadata": {},
   "source": [
    "### Description:"
   ]
  },
  {
   "cell_type": "markdown",
   "id": "888f3637",
   "metadata": {},
   "source": [
    "To test connectivity between your machine and another host (e.g., website, server, or device)."
   ]
  },
  {
   "cell_type": "markdown",
   "id": "d1c02f52",
   "metadata": {},
   "source": [
    "### How to use?"
   ]
  },
  {
   "cell_type": "markdown",
   "id": "cd5f4d54",
   "metadata": {},
   "source": [
    "ping ^target ip address^"
   ]
  },
  {
   "cell_type": "code",
   "execution_count": 3,
   "id": "753d5761",
   "metadata": {},
   "outputs": [
    {
     "name": "stdout",
     "output_type": "stream",
     "text": [
      "Running command: ping 8.8.8.8\n",
      "\n",
      "\n",
      "Pinging 8.8.8.8 with 32 bytes of data:\n",
      "Reply from 8.8.8.8: bytes=32 time=14ms TTL=116\n",
      "Reply from 8.8.8.8: bytes=32 time=11ms TTL=116\n",
      "Reply from 8.8.8.8: bytes=32 time=12ms TTL=116\n",
      "Reply from 8.8.8.8: bytes=32 time=11ms TTL=116\n",
      "\n",
      "Ping statistics for 8.8.8.8:\n",
      "    Packets: Sent = 4, Received = 4, Lost = 0 (0% loss),\n",
      "Approximate round trip times in milli-seconds:\n",
      "    Minimum = 11ms, Maximum = 14ms, Average = 12ms\n",
      "\n"
     ]
    }
   ],
   "source": [
    "run_ping('8.8.8.8')"
   ]
  },
  {
   "cell_type": "markdown",
   "id": "96811d41",
   "metadata": {},
   "source": [
    "### More commands:"
   ]
  },
  {
   "cell_type": "markdown",
   "id": "48934ea4",
   "metadata": {},
   "source": [
    "#### Number of pings to send"
   ]
  },
  {
   "cell_type": "markdown",
   "id": "5ed78b0c",
   "metadata": {
    "vscode": {
     "languageId": "plaintext"
    }
   },
   "source": [
    "for linux/mac os:"
   ]
  },
  {
   "cell_type": "markdown",
   "id": "1857906f",
   "metadata": {},
   "source": [
    "\n",
    "ping -c ^counts of times you want^ ^target ip address^\n"
   ]
  },
  {
   "cell_type": "markdown",
   "id": "244f65f1",
   "metadata": {},
   "source": [
    "for windows:"
   ]
  },
  {
   "cell_type": "markdown",
   "id": "63a5d05b",
   "metadata": {},
   "source": [
    "ping -n ^counts of times you want^ ^target ip address^"
   ]
  },
  {
   "cell_type": "code",
   "execution_count": 9,
   "id": "8aa5277d",
   "metadata": {},
   "outputs": [
    {
     "name": "stdout",
     "output_type": "stream",
     "text": [
      "Running command: ping -n 2 8.8.8.8\n",
      "\n",
      "\n",
      "Pinging 8.8.8.8 with 32 bytes of data:\n",
      "Reply from 8.8.8.8: bytes=32 time=14ms TTL=116\n",
      "Reply from 8.8.8.8: bytes=32 time=14ms TTL=116\n",
      "\n",
      "Ping statistics for 8.8.8.8:\n",
      "    Packets: Sent = 2, Received = 2, Lost = 0 (0% loss),\n",
      "Approximate round trip times in milli-seconds:\n",
      "    Minimum = 14ms, Maximum = 14ms, Average = 14ms\n",
      "\n"
     ]
    }
   ],
   "source": [
    "run_ping('8.8.8.8', count=2)"
   ]
  },
  {
   "cell_type": "markdown",
   "id": "b5760cca",
   "metadata": {},
   "source": [
    "#### Size of payload data in each packet"
   ]
  },
  {
   "cell_type": "markdown",
   "id": "7f4c92ad",
   "metadata": {
    "vscode": {
     "languageId": "plaintext"
    }
   },
   "source": [
    "for linux/mac os:\n"
   ]
  },
  {
   "cell_type": "markdown",
   "id": "c1cf3976",
   "metadata": {},
   "source": [
    "ping -s ^size of packet^ ^target ip address^\n"
   ]
  },
  {
   "cell_type": "markdown",
   "id": "5892426f",
   "metadata": {},
   "source": [
    "for windows:\n"
   ]
  },
  {
   "cell_type": "markdown",
   "id": "e742368a",
   "metadata": {},
   "source": [
    "ping -l ^size of packet^ ^target ip address^"
   ]
  },
  {
   "cell_type": "code",
   "execution_count": 10,
   "id": "298844ab",
   "metadata": {},
   "outputs": [
    {
     "name": "stdout",
     "output_type": "stream",
     "text": [
      "Running command: ping -l 64 8.8.8.8\n",
      "\n",
      "\n",
      "Pinging 8.8.8.8 with 64 bytes of data:\n",
      "Reply from 8.8.8.8: bytes=64 time=14ms TTL=116\n",
      "Reply from 8.8.8.8: bytes=64 time=12ms TTL=116\n",
      "Reply from 8.8.8.8: bytes=64 time=14ms TTL=116\n",
      "Reply from 8.8.8.8: bytes=64 time=11ms TTL=116\n",
      "\n",
      "Ping statistics for 8.8.8.8:\n",
      "    Packets: Sent = 4, Received = 4, Lost = 0 (0% loss),\n",
      "Approximate round trip times in milli-seconds:\n",
      "    Minimum = 11ms, Maximum = 14ms, Average = 12ms\n",
      "\n"
     ]
    }
   ],
   "source": [
    "run_ping('8.8.8.8', size=64)"
   ]
  },
  {
   "cell_type": "markdown",
   "id": "152ced62",
   "metadata": {},
   "source": [
    "#### Time between pings"
   ]
  },
  {
   "cell_type": "markdown",
   "id": "4d218889",
   "metadata": {
    "vscode": {
     "languageId": "plaintext"
    }
   },
   "source": [
    "ping -i ^seconds between every ping^ ^target ip address^"
   ]
  },
  {
   "cell_type": "code",
   "execution_count": 11,
   "id": "5a6eaeca",
   "metadata": {},
   "outputs": [
    {
     "name": "stdout",
     "output_type": "stream",
     "text": [
      "Running command: ping 8.8.8.8\n",
      "\n",
      "\n",
      "Pinging 8.8.8.8 with 32 bytes of data:\n",
      "Reply from 8.8.8.8: bytes=32 time=12ms TTL=116\n",
      "Reply from 8.8.8.8: bytes=32 time=13ms TTL=116\n",
      "Reply from 8.8.8.8: bytes=32 time=15ms TTL=116\n",
      "Reply from 8.8.8.8: bytes=32 time=12ms TTL=116\n",
      "\n",
      "Ping statistics for 8.8.8.8:\n",
      "    Packets: Sent = 4, Received = 4, Lost = 0 (0% loss),\n",
      "Approximate round trip times in milli-seconds:\n",
      "    Minimum = 12ms, Maximum = 15ms, Average = 13ms\n",
      "\n"
     ]
    }
   ],
   "source": [
    "run_ping('8.8.8.8', interval=2)"
   ]
  }
 ],
 "metadata": {
  "kernelspec": {
   "display_name": "Python 3",
   "language": "python",
   "name": "python3"
  },
  "language_info": {
   "codemirror_mode": {
    "name": "ipython",
    "version": 3
   },
   "file_extension": ".py",
   "mimetype": "text/x-python",
   "name": "python",
   "nbconvert_exporter": "python",
   "pygments_lexer": "ipython3",
   "version": "3.13.3"
  }
 },
 "nbformat": 4,
 "nbformat_minor": 5
}
